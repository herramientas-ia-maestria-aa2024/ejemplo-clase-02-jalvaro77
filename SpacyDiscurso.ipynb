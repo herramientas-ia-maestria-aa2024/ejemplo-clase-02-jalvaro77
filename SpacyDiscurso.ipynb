{
 "cells": [
  {
   "cell_type": "code",
   "execution_count": 1,
   "id": "a9922ca8-0bd7-46c7-a1cd-d8dc3211abc4",
   "metadata": {},
   "outputs": [],
   "source": [
    "# Importar spacy\n",
    "import spacy"
   ]
  },
  {
   "cell_type": "code",
   "execution_count": 2,
   "id": "006f74b4-2894-4f31-9bee-b27365496d56",
   "metadata": {},
   "outputs": [],
   "source": [
    "# Cargar el modelo de spaCy para el idioma español\n",
    "nlp = spacy.load(\"es_core_news_sm\")"
   ]
  },
  {
   "cell_type": "code",
   "execution_count": 6,
   "id": "d6b39711-ea2a-434a-ae38-4ace8aafa080",
   "metadata": {},
   "outputs": [
    {
     "name": "stdout",
     "output_type": "stream",
     "text": [
      "Oración #1: Como ya no estaba matriculado y no tenía clases obligatorias, decidí atender al curso de caligrafía para aprender cómo se hacía.\n",
      "N° de elementos: 23\n",
      "\n",
      "Oración #2: Aprendí cosas sobre el serif y tipografías sans serif, sobre los espacios variables entre letras, sobre qué hace realmente grande a una gran tipografía.\n",
      "N° de elementos: 27\n",
      "\n",
      "Oración #3: Era sutilmente bello, histórica y artísticamente, de una forma que la ciencia no puede capturar, y lo encontré fascinante.\n",
      "N° de elementos: 23\n",
      "\n",
      "Oración #4: Nada de esto tenía ni la más mínima esperanza de aplicación práctica en mi vida.\n",
      "N° de elementos: 16\n",
      "\n",
      "Oración #5: Pero diez años más tarde, cuando estábamos diseñando el primer ordenador Macintosh, todo eso volvió a mí.\n",
      "N° de elementos: 20\n",
      "\n",
      "Oración #6: Y diseñamos el Mac con eso en su esencia.\n",
      "N° de elementos: 10\n",
      "\n",
      "Oración #7: Fue el primer ordenador con tipografías bellas.\n",
      "N° de elementos: 8\n",
      "\n",
      "Oración #8: Si nunca me hubiera dejado caer por aquel curso concreto en la universidad, el Mac jamás habría tenido múltiples tipografías, ni caracteres con espaciado proporcional.\n",
      "N° de elementos: 28\n",
      "\n",
      "Oración #9: Y como Windows no hizo más que copiar el Mac, es probable que ningún ordenador personal los tuviera ahora.\n",
      "N° de elementos: 21\n",
      "\n",
      "Oración #10: Si nunca hubiera decidido dejarlo, no habría entrado en esa clase de caligrafía y los ordenadores personales no tendrían la maravillosa tipografía que poseen.\n",
      "N° de elementos: 27\n",
      "\n"
     ]
    }
   ],
   "source": [
    "# Leer el archivo discurso con codificacion utf-8\n",
    "with open(\"discurso.txt\", \"r\", encoding=\"utf-8\") as archivo:\n",
    "    texto = archivo.read()\n",
    "\n",
    "# Procesar el contenido y lo asigno en una variable\n",
    "doc = nlp(texto)\n",
    "\n",
    "# For para Dividir el discurso en oraciones y presentarlas\n",
    "for i, oracion in enumerate(doc.sents, start=1):\n",
    "    # Imprimir la oración\n",
    "    print(f\"Oración #{i}: {oracion.text.strip()}\")\n",
    "    \n",
    "    # Contar el número de elementos(token) en la oración\n",
    "    num_elementos = sum(1 for token in oracion)\n",
    "    \n",
    "    # Imprimir el número de elementos  en la oración\n",
    "    print(f\"N° de elementos: {num_elementos}\\n\")"
   ]
  },
  {
   "cell_type": "code",
   "execution_count": null,
   "id": "54db0224-b6d1-4ac8-b603-16ecc2bb0900",
   "metadata": {},
   "outputs": [],
   "source": []
  }
 ],
 "metadata": {
  "kernelspec": {
   "display_name": "Python 3 (ipykernel)",
   "language": "python",
   "name": "python3"
  },
  "language_info": {
   "codemirror_mode": {
    "name": "ipython",
    "version": 3
   },
   "file_extension": ".py",
   "mimetype": "text/x-python",
   "name": "python",
   "nbconvert_exporter": "python",
   "pygments_lexer": "ipython3",
   "version": "3.11.7"
  }
 },
 "nbformat": 4,
 "nbformat_minor": 5
}
